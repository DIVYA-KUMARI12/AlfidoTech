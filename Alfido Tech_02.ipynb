{
 "cells": [
  {
   "cell_type": "code",
   "execution_count": 1,
   "id": "000cd48a",
   "metadata": {},
   "outputs": [],
   "source": [
    "import pandas as pd\n",
    "import numpy as np\n",
    "import matplotlib.pyplot as plt\n",
    "import seaborn as sns\n",
    "from sklearn.model_selection import train_test_split\n",
    "from sklearn.compose import ColumnTransformer\n",
    "from sklearn.preprocessing import StandardScaler,MinMaxScaler, OneHotEncoder\n",
    "from sklearn.compose import ColumnTransformer\n",
    "from sklearn.pipeline import Pipeline\n",
    "from sklearn.linear_model import LogisticRegression\n",
    "from sklearn.tree import DecisionTreeClassifier\n",
    "from sklearn.ensemble import RandomForestClassifier\n",
    "from sklearn.neighbors import KNeighborsClassifier\n",
    "from sklearn.svm import SVC\n",
    "from sklearn.metrics import accuracy_score, confusion_matrix, classification_report\n",
    "from sklearn.naive_bayes import GaussianNB\n",
    "import warnings\n",
    "warnings.filterwarnings('ignore')\n",
    "import os\n"
   ]
  },
  {
   "cell_type": "code",
   "execution_count": 2,
   "id": "456ba8dc",
   "metadata": {},
   "outputs": [],
   "source": [
    "os.chdir(\"C:\\\\Users\\\\Divya\\\\Desktop\\\\Folder\")"
   ]
  },
  {
   "cell_type": "code",
   "execution_count": 3,
   "id": "d8cae6d5",
   "metadata": {},
   "outputs": [
    {
     "data": {
      "text/html": [
       "<div>\n",
       "<style scoped>\n",
       "    .dataframe tbody tr th:only-of-type {\n",
       "        vertical-align: middle;\n",
       "    }\n",
       "\n",
       "    .dataframe tbody tr th {\n",
       "        vertical-align: top;\n",
       "    }\n",
       "\n",
       "    .dataframe thead th {\n",
       "        text-align: right;\n",
       "    }\n",
       "</style>\n",
       "<table border=\"1\" class=\"dataframe\">\n",
       "  <thead>\n",
       "    <tr style=\"text-align: right;\">\n",
       "      <th></th>\n",
       "      <th>MovieID</th>\n",
       "      <th>MovieName</th>\n",
       "      <th>Genres</th>\n",
       "    </tr>\n",
       "  </thead>\n",
       "  <tbody>\n",
       "    <tr>\n",
       "      <th>0</th>\n",
       "      <td>2</td>\n",
       "      <td>Jumanji (1995)</td>\n",
       "      <td>Adventure|Children's|Fantasy</td>\n",
       "    </tr>\n",
       "    <tr>\n",
       "      <th>1</th>\n",
       "      <td>3</td>\n",
       "      <td>Grumpier Old Men (1995)</td>\n",
       "      <td>Comedy|Romance</td>\n",
       "    </tr>\n",
       "    <tr>\n",
       "      <th>2</th>\n",
       "      <td>4</td>\n",
       "      <td>Waiting to Exhale (1995)</td>\n",
       "      <td>Comedy|Drama</td>\n",
       "    </tr>\n",
       "    <tr>\n",
       "      <th>3</th>\n",
       "      <td>5</td>\n",
       "      <td>Father of the Bride Part II (1995)</td>\n",
       "      <td>Comedy</td>\n",
       "    </tr>\n",
       "    <tr>\n",
       "      <th>4</th>\n",
       "      <td>6</td>\n",
       "      <td>Heat (1995)</td>\n",
       "      <td>Action|Crime|Thriller</td>\n",
       "    </tr>\n",
       "  </tbody>\n",
       "</table>\n",
       "</div>"
      ],
      "text/plain": [
       "   MovieID                           MovieName                        Genres\n",
       "0        2                      Jumanji (1995)  Adventure|Children's|Fantasy\n",
       "1        3             Grumpier Old Men (1995)                Comedy|Romance\n",
       "2        4            Waiting to Exhale (1995)                  Comedy|Drama\n",
       "3        5  Father of the Bride Part II (1995)                        Comedy\n",
       "4        6                         Heat (1995)         Action|Crime|Thriller"
      ]
     },
     "execution_count": 3,
     "metadata": {},
     "output_type": "execute_result"
    }
   ],
   "source": [
    "movie_data = pd.read_csv(\"movies.dat\", sep='::', engine='python', encoding= 'latin1')\n",
    "movie_data.columns=['MovieID', 'MovieName', 'Genres']\n",
    "movie_data.dropna(inplace=True)\n",
    "movie_data.head()"
   ]
  },
  {
   "cell_type": "code",
   "execution_count": 4,
   "id": "fd6f71fb",
   "metadata": {},
   "outputs": [
    {
     "data": {
      "text/plain": [
       "(3882, 3)"
      ]
     },
     "execution_count": 4,
     "metadata": {},
     "output_type": "execute_result"
    }
   ],
   "source": [
    "movie_data.shape"
   ]
  },
  {
   "cell_type": "code",
   "execution_count": 5,
   "id": "dbf3859d",
   "metadata": {},
   "outputs": [
    {
     "data": {
      "text/html": [
       "<div>\n",
       "<style scoped>\n",
       "    .dataframe tbody tr th:only-of-type {\n",
       "        vertical-align: middle;\n",
       "    }\n",
       "\n",
       "    .dataframe tbody tr th {\n",
       "        vertical-align: top;\n",
       "    }\n",
       "\n",
       "    .dataframe thead th {\n",
       "        text-align: right;\n",
       "    }\n",
       "</style>\n",
       "<table border=\"1\" class=\"dataframe\">\n",
       "  <thead>\n",
       "    <tr style=\"text-align: right;\">\n",
       "      <th></th>\n",
       "      <th>ID</th>\n",
       "      <th>MovieID</th>\n",
       "      <th>Ratings</th>\n",
       "      <th>Timestamp</th>\n",
       "    </tr>\n",
       "  </thead>\n",
       "  <tbody>\n",
       "    <tr>\n",
       "      <th>0</th>\n",
       "      <td>1</td>\n",
       "      <td>661</td>\n",
       "      <td>3</td>\n",
       "      <td>978302109</td>\n",
       "    </tr>\n",
       "    <tr>\n",
       "      <th>1</th>\n",
       "      <td>1</td>\n",
       "      <td>914</td>\n",
       "      <td>3</td>\n",
       "      <td>978301968</td>\n",
       "    </tr>\n",
       "    <tr>\n",
       "      <th>2</th>\n",
       "      <td>1</td>\n",
       "      <td>3408</td>\n",
       "      <td>4</td>\n",
       "      <td>978300275</td>\n",
       "    </tr>\n",
       "    <tr>\n",
       "      <th>3</th>\n",
       "      <td>1</td>\n",
       "      <td>2355</td>\n",
       "      <td>5</td>\n",
       "      <td>978824291</td>\n",
       "    </tr>\n",
       "    <tr>\n",
       "      <th>4</th>\n",
       "      <td>1</td>\n",
       "      <td>1197</td>\n",
       "      <td>3</td>\n",
       "      <td>978302268</td>\n",
       "    </tr>\n",
       "  </tbody>\n",
       "</table>\n",
       "</div>"
      ],
      "text/plain": [
       "   ID  MovieID  Ratings  Timestamp\n",
       "0   1      661        3  978302109\n",
       "1   1      914        3  978301968\n",
       "2   1     3408        4  978300275\n",
       "3   1     2355        5  978824291\n",
       "4   1     1197        3  978302268"
      ]
     },
     "execution_count": 5,
     "metadata": {},
     "output_type": "execute_result"
    }
   ],
   "source": [
    "rating_data = pd.read_csv(\"ratings.dat\", sep='::', engine='python', encoding= 'latin1')\n",
    "rating_data.columns=['ID','MovieID', 'Ratings', 'Timestamp']\n",
    "rating_data.dropna(inplace=True)\n",
    "rating_data.head()"
   ]
  },
  {
   "cell_type": "code",
   "execution_count": 6,
   "id": "2c1d3bbd",
   "metadata": {},
   "outputs": [
    {
     "data": {
      "text/plain": [
       "(1000208, 4)"
      ]
     },
     "execution_count": 6,
     "metadata": {},
     "output_type": "execute_result"
    }
   ],
   "source": [
    "rating_data.shape"
   ]
  },
  {
   "cell_type": "code",
   "execution_count": 7,
   "id": "af0aa1c8",
   "metadata": {},
   "outputs": [
    {
     "data": {
      "text/html": [
       "<div>\n",
       "<style scoped>\n",
       "    .dataframe tbody tr th:only-of-type {\n",
       "        vertical-align: middle;\n",
       "    }\n",
       "\n",
       "    .dataframe tbody tr th {\n",
       "        vertical-align: top;\n",
       "    }\n",
       "\n",
       "    .dataframe thead th {\n",
       "        text-align: right;\n",
       "    }\n",
       "</style>\n",
       "<table border=\"1\" class=\"dataframe\">\n",
       "  <thead>\n",
       "    <tr style=\"text-align: right;\">\n",
       "      <th></th>\n",
       "      <th>UserID</th>\n",
       "      <th>Gender</th>\n",
       "      <th>Age</th>\n",
       "      <th>Category</th>\n",
       "      <th>Zip-code</th>\n",
       "    </tr>\n",
       "  </thead>\n",
       "  <tbody>\n",
       "    <tr>\n",
       "      <th>0</th>\n",
       "      <td>2</td>\n",
       "      <td>M</td>\n",
       "      <td>56</td>\n",
       "      <td>16</td>\n",
       "      <td>70072</td>\n",
       "    </tr>\n",
       "    <tr>\n",
       "      <th>1</th>\n",
       "      <td>3</td>\n",
       "      <td>M</td>\n",
       "      <td>25</td>\n",
       "      <td>15</td>\n",
       "      <td>55117</td>\n",
       "    </tr>\n",
       "    <tr>\n",
       "      <th>2</th>\n",
       "      <td>4</td>\n",
       "      <td>M</td>\n",
       "      <td>45</td>\n",
       "      <td>7</td>\n",
       "      <td>02460</td>\n",
       "    </tr>\n",
       "    <tr>\n",
       "      <th>3</th>\n",
       "      <td>5</td>\n",
       "      <td>M</td>\n",
       "      <td>25</td>\n",
       "      <td>20</td>\n",
       "      <td>55455</td>\n",
       "    </tr>\n",
       "    <tr>\n",
       "      <th>4</th>\n",
       "      <td>6</td>\n",
       "      <td>F</td>\n",
       "      <td>50</td>\n",
       "      <td>9</td>\n",
       "      <td>55117</td>\n",
       "    </tr>\n",
       "  </tbody>\n",
       "</table>\n",
       "</div>"
      ],
      "text/plain": [
       "   UserID Gender  Age  Category Zip-code\n",
       "0       2      M   56        16    70072\n",
       "1       3      M   25        15    55117\n",
       "2       4      M   45         7    02460\n",
       "3       5      M   25        20    55455\n",
       "4       6      F   50         9    55117"
      ]
     },
     "execution_count": 7,
     "metadata": {},
     "output_type": "execute_result"
    }
   ],
   "source": [
    "user_data = pd.read_csv(\"users.dat\", sep='::', engine='python', encoding= 'latin1')\n",
    "user_data.columns=['UserID','Gender', 'Age', 'Category', 'Zip-code']\n",
    "user_data.dropna(inplace=True)\n",
    "user_data.head()"
   ]
  },
  {
   "cell_type": "code",
   "execution_count": 8,
   "id": "70912517",
   "metadata": {},
   "outputs": [
    {
     "data": {
      "text/plain": [
       "(6039, 5)"
      ]
     },
     "execution_count": 8,
     "metadata": {},
     "output_type": "execute_result"
    }
   ],
   "source": [
    "user_data.shape"
   ]
  },
  {
   "cell_type": "code",
   "execution_count": 9,
   "id": "735166f9",
   "metadata": {},
   "outputs": [
    {
     "data": {
      "text/html": [
       "<div>\n",
       "<style scoped>\n",
       "    .dataframe tbody tr th:only-of-type {\n",
       "        vertical-align: middle;\n",
       "    }\n",
       "\n",
       "    .dataframe tbody tr th {\n",
       "        vertical-align: top;\n",
       "    }\n",
       "\n",
       "    .dataframe thead th {\n",
       "        text-align: right;\n",
       "    }\n",
       "</style>\n",
       "<table border=\"1\" class=\"dataframe\">\n",
       "  <thead>\n",
       "    <tr style=\"text-align: right;\">\n",
       "      <th></th>\n",
       "      <th>MovieID</th>\n",
       "      <th>MovieName</th>\n",
       "      <th>Genres</th>\n",
       "      <th>ID</th>\n",
       "      <th>MovieID</th>\n",
       "      <th>Ratings</th>\n",
       "      <th>Timestamp</th>\n",
       "      <th>UserID</th>\n",
       "      <th>Gender</th>\n",
       "      <th>Age</th>\n",
       "      <th>Category</th>\n",
       "      <th>Zip-code</th>\n",
       "    </tr>\n",
       "  </thead>\n",
       "  <tbody>\n",
       "    <tr>\n",
       "      <th>0</th>\n",
       "      <td>2.0</td>\n",
       "      <td>Jumanji (1995)</td>\n",
       "      <td>Adventure|Children's|Fantasy</td>\n",
       "      <td>1</td>\n",
       "      <td>661</td>\n",
       "      <td>3</td>\n",
       "      <td>978302109</td>\n",
       "      <td>2.0</td>\n",
       "      <td>M</td>\n",
       "      <td>56.0</td>\n",
       "      <td>16.0</td>\n",
       "      <td>70072</td>\n",
       "    </tr>\n",
       "    <tr>\n",
       "      <th>1</th>\n",
       "      <td>3.0</td>\n",
       "      <td>Grumpier Old Men (1995)</td>\n",
       "      <td>Comedy|Romance</td>\n",
       "      <td>1</td>\n",
       "      <td>914</td>\n",
       "      <td>3</td>\n",
       "      <td>978301968</td>\n",
       "      <td>3.0</td>\n",
       "      <td>M</td>\n",
       "      <td>25.0</td>\n",
       "      <td>15.0</td>\n",
       "      <td>55117</td>\n",
       "    </tr>\n",
       "    <tr>\n",
       "      <th>2</th>\n",
       "      <td>4.0</td>\n",
       "      <td>Waiting to Exhale (1995)</td>\n",
       "      <td>Comedy|Drama</td>\n",
       "      <td>1</td>\n",
       "      <td>3408</td>\n",
       "      <td>4</td>\n",
       "      <td>978300275</td>\n",
       "      <td>4.0</td>\n",
       "      <td>M</td>\n",
       "      <td>45.0</td>\n",
       "      <td>7.0</td>\n",
       "      <td>02460</td>\n",
       "    </tr>\n",
       "    <tr>\n",
       "      <th>3</th>\n",
       "      <td>5.0</td>\n",
       "      <td>Father of the Bride Part II (1995)</td>\n",
       "      <td>Comedy</td>\n",
       "      <td>1</td>\n",
       "      <td>2355</td>\n",
       "      <td>5</td>\n",
       "      <td>978824291</td>\n",
       "      <td>5.0</td>\n",
       "      <td>M</td>\n",
       "      <td>25.0</td>\n",
       "      <td>20.0</td>\n",
       "      <td>55455</td>\n",
       "    </tr>\n",
       "    <tr>\n",
       "      <th>4</th>\n",
       "      <td>6.0</td>\n",
       "      <td>Heat (1995)</td>\n",
       "      <td>Action|Crime|Thriller</td>\n",
       "      <td>1</td>\n",
       "      <td>1197</td>\n",
       "      <td>3</td>\n",
       "      <td>978302268</td>\n",
       "      <td>6.0</td>\n",
       "      <td>F</td>\n",
       "      <td>50.0</td>\n",
       "      <td>9.0</td>\n",
       "      <td>55117</td>\n",
       "    </tr>\n",
       "  </tbody>\n",
       "</table>\n",
       "</div>"
      ],
      "text/plain": [
       "   MovieID                           MovieName                        Genres  \\\n",
       "0      2.0                      Jumanji (1995)  Adventure|Children's|Fantasy   \n",
       "1      3.0             Grumpier Old Men (1995)                Comedy|Romance   \n",
       "2      4.0            Waiting to Exhale (1995)                  Comedy|Drama   \n",
       "3      5.0  Father of the Bride Part II (1995)                        Comedy   \n",
       "4      6.0                         Heat (1995)         Action|Crime|Thriller   \n",
       "\n",
       "   ID  MovieID  Ratings  Timestamp  UserID Gender   Age  Category Zip-code  \n",
       "0   1      661        3  978302109     2.0      M  56.0      16.0    70072  \n",
       "1   1      914        3  978301968     3.0      M  25.0      15.0    55117  \n",
       "2   1     3408        4  978300275     4.0      M  45.0       7.0    02460  \n",
       "3   1     2355        5  978824291     5.0      M  25.0      20.0    55455  \n",
       "4   1     1197        3  978302268     6.0      F  50.0       9.0    55117  "
      ]
     },
     "execution_count": 9,
     "metadata": {},
     "output_type": "execute_result"
    }
   ],
   "source": [
    "dataset=pd.concat([movie_data, rating_data, user_data], axis=1)\n",
    "dataset.head()\n"
   ]
  },
  {
   "cell_type": "code",
   "execution_count": 10,
   "id": "2bf97de0",
   "metadata": {},
   "outputs": [
    {
     "data": {
      "text/plain": [
       "(1000208, 12)"
      ]
     },
     "execution_count": 10,
     "metadata": {},
     "output_type": "execute_result"
    }
   ],
   "source": [
    "dataset.shape"
   ]
  },
  {
   "cell_type": "code",
   "execution_count": 11,
   "id": "f80266b2",
   "metadata": {},
   "outputs": [
    {
     "data": {
      "text/plain": [
       "MovieID      996326\n",
       "MovieName    996326\n",
       "Genres       996326\n",
       "ID                0\n",
       "MovieID           0\n",
       "Ratings           0\n",
       "Timestamp         0\n",
       "UserID       994169\n",
       "Gender       994169\n",
       "Age          994169\n",
       "Category     994169\n",
       "Zip-code     994169\n",
       "dtype: int64"
      ]
     },
     "execution_count": 11,
     "metadata": {},
     "output_type": "execute_result"
    }
   ],
   "source": [
    "dataset.isnull().sum()"
   ]
  },
  {
   "cell_type": "code",
   "execution_count": 12,
   "id": "1e8f7a28",
   "metadata": {},
   "outputs": [
    {
     "name": "stdout",
     "output_type": "stream",
     "text": [
      "unique_genres: [\"Adventure|Children's|Fantasy\" 'Comedy|Romance' 'Comedy|Drama' 'Comedy'\n",
      " 'Action|Crime|Thriller' \"Adventure|Children's\" 'Action'\n",
      " 'Action|Adventure|Thriller' 'Comedy|Drama|Romance' 'Comedy|Horror'\n",
      " \"Animation|Children's\" 'Drama' 'Action|Adventure|Romance'\n",
      " 'Drama|Thriller' 'Drama|Romance' 'Thriller' 'Action|Comedy|Drama'\n",
      " 'Crime|Drama|Thriller' 'Drama|Sci-Fi' 'Romance' 'Adventure|Sci-Fi'\n",
      " 'Adventure|Romance' \"Children's|Comedy|Drama\" 'Documentary' 'Drama|War'\n",
      " 'Action|Crime|Drama' 'Action|Adventure' 'Crime|Thriller'\n",
      " \"Animation|Children's|Musical|Romance\" 'Action|Drama|Thriller'\n",
      " \"Children's|Comedy\" 'Drama|Mystery' 'Sci-Fi|Thriller'\n",
      " 'Action|Comedy|Crime|Horror|Thriller' 'Drama|Musical'\n",
      " 'Crime|Drama|Romance' 'Adventure|Drama' 'Action|Thriller'\n",
      " \"Adventure|Children's|Comedy|Musical\" 'Action|Drama|War'\n",
      " 'Action|Adventure|Crime' 'Crime' 'Drama|Mystery|Romance' 'Action|Drama'\n",
      " 'Drama|Romance|War' 'Horror' 'Action|Adventure|Comedy|Crime' 'Comedy|War'\n",
      " 'Action|Adventure|Mystery|Sci-Fi' 'Drama|Thriller|War'\n",
      " 'Action|Romance|Thriller' 'Crime|Film-Noir|Mystery|Thriller'\n",
      " 'Action|Adventure|Drama|Romance' \"Adventure|Children's|Drama\"\n",
      " 'Action|Sci-Fi|Thriller' 'Action|Adventure|Sci-Fi' \"Action|Children's\"\n",
      " 'Horror|Sci-Fi' 'Action|Crime|Sci-Fi' 'Western'\n",
      " \"Animation|Children's|Comedy|Romance\" \"Children's|Drama\" 'Crime|Drama'\n",
      " 'Drama|Fantasy|Romance|Thriller' 'Drama|Horror' 'Comedy|Sci-Fi'\n",
      " 'Mystery|Thriller' \"Adventure|Children's|Comedy|Fantasy|Romance\"\n",
      " 'Action|Adventure|Fantasy|Sci-Fi' 'Drama|Romance|War|Western'\n",
      " 'Action|Crime' 'Crime|Drama|Romance|Thriller' 'Action|Adventure|Western'\n",
      " 'Horror|Thriller' \"Children's|Comedy|Fantasy\" 'Film-Noir|Thriller'\n",
      " 'Action|Comedy|Musical|Sci-Fi' \"Children's\" 'Drama|Mystery|Thriller'\n",
      " 'Comedy|Romance|War' 'Action|Comedy' \"Adventure|Children's|Romance\"\n",
      " \"Animation|Children's|Musical\" 'Comedy|Crime|Fantasy'\n",
      " 'Action|Comedy|Western' 'Action|Sci-Fi' 'Action|Adventure|Comedy|Romance'\n",
      " 'Comedy|Crime|Drama' 'Comedy|Thriller' 'Horror|Sci-Fi|Thriller'\n",
      " 'Mystery|Romance|Thriller' 'Comedy|Western' 'Drama|Western'\n",
      " 'Action|Adventure|Crime|Thriller' 'Action|Comedy|War' 'Comedy|Mystery'\n",
      " 'Comedy|Mystery|Romance' 'Comedy|Drama|War' 'Action|Drama|Mystery'\n",
      " 'Comedy|Crime|Horror' 'Film-Noir|Sci-Fi' 'Comedy|Romance|Thriller'\n",
      " \"Action|Adventure|Children's|Sci-Fi\" \"Children's|Comedy|Musical\"\n",
      " 'Action|Adventure|Comedy' 'Action|Crime|Romance'\n",
      " \"Action|Adventure|Animation|Children's|Fantasy\"\n",
      " \"Animation|Children's|Comedy|Musical\" 'Adventure|Drama|Western'\n",
      " 'Action|Adventure|Crime|Drama' 'Action|Adventure|Animation|Horror|Sci-Fi'\n",
      " 'Action|Horror|Sci-Fi' 'War' 'Action|Adventure|Mystery' 'Mystery'\n",
      " 'Action|Adventure|Fantasy'\n",
      " \"Adventure|Animation|Children's|Comedy|Fantasy\" 'Sci-Fi'\n",
      " 'Documentary|Drama' 'Action|Adventure|Comedy|War'\n",
      " 'Crime|Film-Noir|Thriller' 'Animation'\n",
      " 'Action|Adventure|Romance|Thriller' 'Animation|Sci-Fi'\n",
      " 'Animation|Comedy|Thriller' 'Film-Noir' 'Sci-Fi|War' 'Adventure'\n",
      " 'Comedy|Crime' 'Action|Sci-Fi|War' 'Comedy|Fantasy|Romance|Sci-Fi'\n",
      " 'Fantasy' 'Action|Mystery|Thriller' 'Comedy|Musical'\n",
      " 'Action|Adventure|Sci-Fi|Thriller' \"Children's|Drama|Fantasy\"\n",
      " 'Adventure|War' 'Musical|Romance' 'Comedy|Musical|Romance'\n",
      " 'Comedy|Mystery|Romance|Thriller' 'Film-Noir|Mystery' 'Musical'\n",
      " \"Adventure|Children's|Drama|Musical\" 'Drama|Mystery|Sci-Fi|Thriller'\n",
      " 'Romance|Thriller' 'Film-Noir|Romance|Thriller' 'Crime|Film-Noir|Mystery'\n",
      " 'Adventure|Comedy' 'Action|Adventure|Romance|War' 'Romance|War'\n",
      " 'Action|Drama|Western' \"Children's|Comedy|Western\"\n",
      " \"Adventure|Children's|Comedy\" \"Children's|Comedy|Mystery\"\n",
      " \"Adventure|Children's|Fantasy|Sci-Fi\"\n",
      " \"Adventure|Animation|Children's|Musical\" \"Adventure|Children's|Musical\"\n",
      " \"Animation|Children's|Comedy\" 'Crime|Film-Noir'\n",
      " \"Adventure|Children's|Comedy|Fantasy\" \"Children's|Drama|Fantasy|Sci-Fi\"\n",
      " 'Action|Romance' 'Adventure|Western' 'Comedy|Fantasy' 'Animation|Comedy'\n",
      " 'Crime|Drama|Film-Noir' 'Action|Adventure|Drama|Sci-Fi|War'\n",
      " 'Action|Sci-Fi|Thriller|War' 'Action|Western'\n",
      " \"Action|Animation|Children's|Sci-Fi|Thriller|War\"\n",
      " 'Action|Adventure|Romance|Sci-Fi|War' 'Action|Horror|Sci-Fi|Thriller'\n",
      " 'Action|Adventure|Comedy|Horror|Sci-Fi' 'Action|Comedy|Musical'\n",
      " 'Mystery|Sci-Fi' 'Film-Noir|Mystery|Thriller' 'Adventure|Comedy|Drama'\n",
      " 'Action|Adventure|Comedy|Horror' 'Action|Drama|Mystery|Romance|Thriller'\n",
      " 'Comedy|Mystery|Thriller' 'Adventure|Animation|Sci-Fi|Thriller'\n",
      " 'Action|Drama|Romance' 'Action|Adventure|Drama' 'Comedy|Drama|Musical'\n",
      " 'Documentary|War' 'Drama|Musical|War' 'Action|Horror' 'Horror|Romance'\n",
      " 'Action|Comedy|Sci-Fi|War' 'Crime|Drama|Sci-Fi' 'Action|Romance|War'\n",
      " 'Action|Comedy|Crime|Drama' 'Action|Drama|Thriller|War'\n",
      " \"Action|Adventure|Children's\" \"Action|Adventure|Children's|Fantasy\"\n",
      " \"Adventure|Animation|Children's|Comedy|Musical\" 'Crime|Drama|Mystery'\n",
      " 'Action|Adventure|Comedy|Sci-Fi' \"Children's|Fantasy\"\n",
      " 'Action|Mystery|Sci-Fi|Thriller' 'Action|Mystery|Romance|Thriller'\n",
      " 'Adventure|Thriller' 'Action|Thriller|War' 'Action|Crime|Mystery'\n",
      " 'Horror|Mystery|Thriller' 'Crime|Horror|Mystery|Thriller'\n",
      " 'Comedy|Drama|Thriller' 'Drama|Sci-Fi|Thriller' 'Drama|Romance|Thriller'\n",
      " 'Action|Adventure|Sci-Fi|War' 'Comedy|Crime|Drama|Mystery'\n",
      " 'Comedy|Crime|Mystery|Thriller' 'Film-Noir|Sci-Fi|Thriller'\n",
      " 'Adventure|Sci-Fi|Thriller' 'Crime|Drama|Mystery|Thriller'\n",
      " 'Comedy|Documentary' 'Documentary|Musical' 'Action|Drama|Sci-Fi|Thriller'\n",
      " \"Adventure|Animation|Children's|Fantasy\" 'Adventure|Comedy|Romance'\n",
      " 'Mystery|Sci-Fi|Thriller' 'Action|Comedy|Crime'\n",
      " \"Animation|Children's|Fantasy|War\" 'Action|Crime|Drama|Thriller'\n",
      " 'Comedy|Sci-Fi|Western' \"Children's|Fantasy|Musical\" 'Fantasy|Sci-Fi'\n",
      " \"Children's|Comedy|Sci-Fi\" \"Action|Adventure|Children's|Comedy\"\n",
      " \"Adventure|Children's|Drama|Romance\" \"Adventure|Children's|Sci-Fi\"\n",
      " \"Adventure|Children's|Comedy|Fantasy|Sci-Fi\"\n",
      " \"Animation|Children's|Comedy|Musical|Romance\" \"Children's|Musical\"\n",
      " 'Drama|Fantasy' \"Animation|Children's|Fantasy|Musical\"\n",
      " 'Adventure|Comedy|Musical' \"Children's|Sci-Fi\" \"Children's|Horror\"\n",
      " 'Comedy|Fantasy|Romance' 'Comedy|Crime|Thriller'\n",
      " \"Adventure|Animation|Children's|Sci-Fi\" 'Action|Crime|Mystery|Thriller'\n",
      " 'Adventure|Musical' \"Animation|Children's|Drama|Fantasy\"\n",
      " \"Children's|Fantasy|Sci-Fi\" 'Adventure|Fantasy|Romance' 'Crime|Horror'\n",
      " 'Action|Adventure|Horror' 'Adventure|Fantasy|Sci-Fi'\n",
      " 'Drama|Film-Noir|Thriller' 'Action|Comedy|Fantasy' 'Sci-Fi|Thriller|War'\n",
      " 'Action|Adventure|Sci-Fi|Thriller|War' 'Action|Adventure|Drama|Thriller'\n",
      " 'Crime|Horror|Thriller' 'Animation|Musical' 'Action|War'\n",
      " 'Action|Comedy|Romance|Thriller' 'Comedy|Horror|Thriller'\n",
      " 'Drama|Horror|Thriller' 'Action|Sci-Fi|Thriller|Western'\n",
      " 'Drama|Romance|Sci-Fi' 'Action|Adventure|Horror|Thriller'\n",
      " 'Comedy|Film-Noir|Thriller' 'Comedy|Horror|Musical|Sci-Fi'\n",
      " 'Comedy|Romance|Sci-Fi' 'Action|Comedy|Sci-Fi|Thriller'\n",
      " 'Action|Sci-Fi|Western' 'Comedy|Horror|Musical' 'Crime|Mystery'\n",
      " 'Animation|Mystery' 'Action|Horror|Thriller'\n",
      " 'Action|Drama|Fantasy|Romance' 'Horror|Mystery'\n",
      " \"Adventure|Animation|Children's\" 'Musical|Romance|War'\n",
      " 'Adventure|Drama|Romance' 'Adventure|Animation|Film-Noir'\n",
      " 'Action|Adventure|Animation' 'Comedy|Drama|Western'\n",
      " 'Adventure|Comedy|Sci-Fi' 'Drama|Romance|Western' 'Comedy|Drama|Sci-Fi'\n",
      " 'Action|Drama|Romance|Thriller' 'Adventure|Romance|Sci-Fi'\n",
      " 'Film-Noir|Horror' 'Crime|Drama|Film-Noir|Thriller'\n",
      " 'Action|Adventure|War' 'Romance|Western' \"Action|Children's|Fantasy\"\n",
      " 'Adventure|Drama|Thriller' 'Adventure|Fantasy' 'Musical|War'\n",
      " 'Adventure|Musical|Romance' 'Action|Romance|Sci-Fi' 'Drama|Film-Noir'\n",
      " 'Comedy|Horror|Sci-Fi' 'Adventure|Drama|Romance|Sci-Fi'\n",
      " 'Adventure|Animation|Sci-Fi' 'Adventure|Crime|Sci-Fi|Thriller' nan]\n"
     ]
    }
   ],
   "source": [
    "unique_genres=dataset['Genres'].unique()\n",
    "print(\"unique_genres:\" , unique_genres)"
   ]
  },
  {
   "cell_type": "code",
   "execution_count": 13,
   "id": "7fa1f9ce",
   "metadata": {},
   "outputs": [],
   "source": [
    "dataset.drop_duplicates(inplace=True)"
   ]
  },
  {
   "cell_type": "code",
   "execution_count": 14,
   "id": "aa36c87b",
   "metadata": {},
   "outputs": [
    {
     "name": "stdout",
     "output_type": "stream",
     "text": [
      "MovieID      0\n",
      "MovieName    0\n",
      "Genres       0\n",
      "ID           0\n",
      "MovieID      0\n",
      "Ratings      0\n",
      "Timestamp    0\n",
      "UserID       0\n",
      "Gender       0\n",
      "Age          0\n",
      "Category     0\n",
      "Zip-code     0\n",
      "dtype: int64\n"
     ]
    }
   ],
   "source": [
    "attributes=[\"MovieName\", \"Genres\", \"Gender\", \"Age\", \"Ratings\"]\n",
    "dataset.dropna(subset=attributes, inplace=True)\n",
    "missing_value=dataset.isna().sum()\n",
    "print(missing_value)"
   ]
  },
  {
   "cell_type": "code",
   "execution_count": 15,
   "id": "a96ac9bf",
   "metadata": {},
   "outputs": [
    {
     "data": {
      "text/html": [
       "<div>\n",
       "<style scoped>\n",
       "    .dataframe tbody tr th:only-of-type {\n",
       "        vertical-align: middle;\n",
       "    }\n",
       "\n",
       "    .dataframe tbody tr th {\n",
       "        vertical-align: top;\n",
       "    }\n",
       "\n",
       "    .dataframe thead th {\n",
       "        text-align: right;\n",
       "    }\n",
       "</style>\n",
       "<table border=\"1\" class=\"dataframe\">\n",
       "  <thead>\n",
       "    <tr style=\"text-align: right;\">\n",
       "      <th></th>\n",
       "      <th>MovieID</th>\n",
       "      <th>MovieName</th>\n",
       "      <th>Genres</th>\n",
       "      <th>ID</th>\n",
       "      <th>MovieID</th>\n",
       "      <th>Ratings</th>\n",
       "      <th>Timestamp</th>\n",
       "      <th>UserID</th>\n",
       "      <th>Gender</th>\n",
       "      <th>Age</th>\n",
       "      <th>Category</th>\n",
       "      <th>Zip-code</th>\n",
       "    </tr>\n",
       "  </thead>\n",
       "  <tbody>\n",
       "    <tr>\n",
       "      <th>0</th>\n",
       "      <td>2.0</td>\n",
       "      <td>Jumanji (1995)</td>\n",
       "      <td>Adventure|Children's|Fantasy</td>\n",
       "      <td>1</td>\n",
       "      <td>661</td>\n",
       "      <td>3</td>\n",
       "      <td>978302109</td>\n",
       "      <td>2.0</td>\n",
       "      <td>M</td>\n",
       "      <td>56.0</td>\n",
       "      <td>16.0</td>\n",
       "      <td>70072</td>\n",
       "    </tr>\n",
       "    <tr>\n",
       "      <th>1</th>\n",
       "      <td>3.0</td>\n",
       "      <td>Grumpier Old Men (1995)</td>\n",
       "      <td>Comedy|Romance</td>\n",
       "      <td>1</td>\n",
       "      <td>914</td>\n",
       "      <td>3</td>\n",
       "      <td>978301968</td>\n",
       "      <td>3.0</td>\n",
       "      <td>M</td>\n",
       "      <td>25.0</td>\n",
       "      <td>15.0</td>\n",
       "      <td>55117</td>\n",
       "    </tr>\n",
       "    <tr>\n",
       "      <th>2</th>\n",
       "      <td>4.0</td>\n",
       "      <td>Waiting to Exhale (1995)</td>\n",
       "      <td>Comedy|Drama</td>\n",
       "      <td>1</td>\n",
       "      <td>3408</td>\n",
       "      <td>4</td>\n",
       "      <td>978300275</td>\n",
       "      <td>4.0</td>\n",
       "      <td>M</td>\n",
       "      <td>45.0</td>\n",
       "      <td>7.0</td>\n",
       "      <td>02460</td>\n",
       "    </tr>\n",
       "    <tr>\n",
       "      <th>3</th>\n",
       "      <td>5.0</td>\n",
       "      <td>Father of the Bride Part II (1995)</td>\n",
       "      <td>Comedy</td>\n",
       "      <td>1</td>\n",
       "      <td>2355</td>\n",
       "      <td>5</td>\n",
       "      <td>978824291</td>\n",
       "      <td>5.0</td>\n",
       "      <td>M</td>\n",
       "      <td>25.0</td>\n",
       "      <td>20.0</td>\n",
       "      <td>55455</td>\n",
       "    </tr>\n",
       "    <tr>\n",
       "      <th>4</th>\n",
       "      <td>6.0</td>\n",
       "      <td>Heat (1995)</td>\n",
       "      <td>Action|Crime|Thriller</td>\n",
       "      <td>1</td>\n",
       "      <td>1197</td>\n",
       "      <td>3</td>\n",
       "      <td>978302268</td>\n",
       "      <td>6.0</td>\n",
       "      <td>F</td>\n",
       "      <td>50.0</td>\n",
       "      <td>9.0</td>\n",
       "      <td>55117</td>\n",
       "    </tr>\n",
       "    <tr>\n",
       "      <th>...</th>\n",
       "      <td>...</td>\n",
       "      <td>...</td>\n",
       "      <td>...</td>\n",
       "      <td>...</td>\n",
       "      <td>...</td>\n",
       "      <td>...</td>\n",
       "      <td>...</td>\n",
       "      <td>...</td>\n",
       "      <td>...</td>\n",
       "      <td>...</td>\n",
       "      <td>...</td>\n",
       "      <td>...</td>\n",
       "    </tr>\n",
       "    <tr>\n",
       "      <th>3877</th>\n",
       "      <td>3948.0</td>\n",
       "      <td>Meet the Parents (2000)</td>\n",
       "      <td>Comedy</td>\n",
       "      <td>28</td>\n",
       "      <td>334</td>\n",
       "      <td>4</td>\n",
       "      <td>978125960</td>\n",
       "      <td>3879.0</td>\n",
       "      <td>M</td>\n",
       "      <td>25.0</td>\n",
       "      <td>3.0</td>\n",
       "      <td>83687</td>\n",
       "    </tr>\n",
       "    <tr>\n",
       "      <th>3878</th>\n",
       "      <td>3949.0</td>\n",
       "      <td>Requiem for a Dream (2000)</td>\n",
       "      <td>Drama</td>\n",
       "      <td>28</td>\n",
       "      <td>266</td>\n",
       "      <td>2</td>\n",
       "      <td>978982323</td>\n",
       "      <td>3880.0</td>\n",
       "      <td>M</td>\n",
       "      <td>25.0</td>\n",
       "      <td>7.0</td>\n",
       "      <td>54942</td>\n",
       "    </tr>\n",
       "    <tr>\n",
       "      <th>3879</th>\n",
       "      <td>3950.0</td>\n",
       "      <td>Tigerland (2000)</td>\n",
       "      <td>Drama</td>\n",
       "      <td>28</td>\n",
       "      <td>2174</td>\n",
       "      <td>3</td>\n",
       "      <td>978126491</td>\n",
       "      <td>3881.0</td>\n",
       "      <td>M</td>\n",
       "      <td>18.0</td>\n",
       "      <td>2.0</td>\n",
       "      <td>44515</td>\n",
       "    </tr>\n",
       "    <tr>\n",
       "      <th>3880</th>\n",
       "      <td>3951.0</td>\n",
       "      <td>Two Family House (2000)</td>\n",
       "      <td>Drama</td>\n",
       "      <td>28</td>\n",
       "      <td>912</td>\n",
       "      <td>5</td>\n",
       "      <td>978985294</td>\n",
       "      <td>3882.0</td>\n",
       "      <td>M</td>\n",
       "      <td>56.0</td>\n",
       "      <td>14.0</td>\n",
       "      <td>55337</td>\n",
       "    </tr>\n",
       "    <tr>\n",
       "      <th>3881</th>\n",
       "      <td>3952.0</td>\n",
       "      <td>Contender, The (2000)</td>\n",
       "      <td>Drama|Thriller</td>\n",
       "      <td>28</td>\n",
       "      <td>2248</td>\n",
       "      <td>4</td>\n",
       "      <td>978126172</td>\n",
       "      <td>3883.0</td>\n",
       "      <td>M</td>\n",
       "      <td>50.0</td>\n",
       "      <td>16.0</td>\n",
       "      <td>78411</td>\n",
       "    </tr>\n",
       "  </tbody>\n",
       "</table>\n",
       "<p>3882 rows × 12 columns</p>\n",
       "</div>"
      ],
      "text/plain": [
       "      MovieID                           MovieName  \\\n",
       "0         2.0                      Jumanji (1995)   \n",
       "1         3.0             Grumpier Old Men (1995)   \n",
       "2         4.0            Waiting to Exhale (1995)   \n",
       "3         5.0  Father of the Bride Part II (1995)   \n",
       "4         6.0                         Heat (1995)   \n",
       "...       ...                                 ...   \n",
       "3877   3948.0             Meet the Parents (2000)   \n",
       "3878   3949.0          Requiem for a Dream (2000)   \n",
       "3879   3950.0                    Tigerland (2000)   \n",
       "3880   3951.0             Two Family House (2000)   \n",
       "3881   3952.0               Contender, The (2000)   \n",
       "\n",
       "                            Genres  ID  MovieID  Ratings  Timestamp  UserID  \\\n",
       "0     Adventure|Children's|Fantasy   1      661        3  978302109     2.0   \n",
       "1                   Comedy|Romance   1      914        3  978301968     3.0   \n",
       "2                     Comedy|Drama   1     3408        4  978300275     4.0   \n",
       "3                           Comedy   1     2355        5  978824291     5.0   \n",
       "4            Action|Crime|Thriller   1     1197        3  978302268     6.0   \n",
       "...                            ...  ..      ...      ...        ...     ...   \n",
       "3877                        Comedy  28      334        4  978125960  3879.0   \n",
       "3878                         Drama  28      266        2  978982323  3880.0   \n",
       "3879                         Drama  28     2174        3  978126491  3881.0   \n",
       "3880                         Drama  28      912        5  978985294  3882.0   \n",
       "3881                Drama|Thriller  28     2248        4  978126172  3883.0   \n",
       "\n",
       "     Gender   Age  Category Zip-code  \n",
       "0         M  56.0      16.0    70072  \n",
       "1         M  25.0      15.0    55117  \n",
       "2         M  45.0       7.0    02460  \n",
       "3         M  25.0      20.0    55455  \n",
       "4         F  50.0       9.0    55117  \n",
       "...     ...   ...       ...      ...  \n",
       "3877      M  25.0       3.0    83687  \n",
       "3878      M  25.0       7.0    54942  \n",
       "3879      M  18.0       2.0    44515  \n",
       "3880      M  56.0      14.0    55337  \n",
       "3881      M  50.0      16.0    78411  \n",
       "\n",
       "[3882 rows x 12 columns]"
      ]
     },
     "execution_count": 15,
     "metadata": {},
     "output_type": "execute_result"
    }
   ],
   "source": [
    "dataset"
   ]
  },
  {
   "cell_type": "code",
   "execution_count": 16,
   "id": "965f12f3",
   "metadata": {},
   "outputs": [
    {
     "name": "stdout",
     "output_type": "stream",
     "text": [
      "                               MovieName  Ratings\n",
      "0                         Jumanji (1995)        3\n",
      "1                Grumpier Old Men (1995)        3\n",
      "2               Waiting to Exhale (1995)        4\n",
      "3     Father of the Bride Part II (1995)        5\n",
      "4                            Heat (1995)        3\n",
      "...                                  ...      ...\n",
      "3877             Meet the Parents (2000)        4\n",
      "3878          Requiem for a Dream (2000)        2\n",
      "3879                    Tigerland (2000)        3\n",
      "3880             Two Family House (2000)        5\n",
      "3881               Contender, The (2000)        4\n",
      "\n",
      "[3882 rows x 2 columns]\n"
     ]
    }
   ],
   "source": [
    "top_rated_movies=dataset[[\"MovieName\", \"Ratings\"]]\n",
    "print(top_rated_movies)"
   ]
  },
  {
   "cell_type": "markdown",
   "id": "50f60489",
   "metadata": {},
   "source": [
    "## Data Visualization"
   ]
  },
  {
   "cell_type": "code",
   "execution_count": 17,
   "id": "2ef67e17",
   "metadata": {},
   "outputs": [
    {
     "data": {
      "text/plain": [
       "<Axes: xlabel='Gender', ylabel='count'>"
      ]
     },
     "execution_count": 17,
     "metadata": {},
     "output_type": "execute_result"
    },
    {
     "data": {
      "image/png": "[encoded data removed]",
      "text/plain": [
       "<Figure size 640x480 with 1 Axes>"
      ]
     },
     "metadata": {},
     "output_type": "display_data"
    }
   ],
   "source": [
    "sns.countplot(x=dataset['Gender'], hue=dataset['Ratings'])"
   ]
  },
  {
   "cell_type": "code",
   "execution_count": 18,
   "id": "fb7ee17d",
   "metadata": {},
   "outputs": [
    {
     "data": {
      "image/png": "[encoded data removed]",
      "text/plain": [
       "<Figure size 640x480 with 1 Axes>"
      ]
     },
     "metadata": {},
     "output_type": "display_data"
    }
   ],
   "source": [
    "dataset['Ratings'].value_counts().plot(kind='bar')\n",
    "plt.show()"
   ]
  },
  {
   "cell_type": "code",
   "execution_count": 19,
   "id": "a5a31272",
   "metadata": {},
   "outputs": [
    {
     "data": {
      "text/plain": [
       "<Axes: xlabel='Age', ylabel='count'>"
      ]
     },
     "execution_count": 19,
     "metadata": {},
     "output_type": "execute_result"
    },
    {
     "data": {
      "image/png": "[encoded data removed]",
      "text/plain": [
       "<Figure size 640x480 with 1 Axes>"
      ]
     },
     "metadata": {},
     "output_type": "display_data"
    }
   ],
   "source": [
    "sns.countplot(x=dataset['Age'], hue=dataset['Ratings'])"
   ]
  },
  {
   "cell_type": "code",
   "execution_count": 20,
   "id": "c6c93644",
   "metadata": {},
   "outputs": [
    {
     "data": {
      "text/html": [
       "<div>\n",
       "<style scoped>\n",
       "    .dataframe tbody tr th:only-of-type {\n",
       "        vertical-align: middle;\n",
       "    }\n",
       "\n",
       "    .dataframe tbody tr th {\n",
       "        vertical-align: top;\n",
       "    }\n",
       "\n",
       "    .dataframe thead th {\n",
       "        text-align: right;\n",
       "    }\n",
       "</style>\n",
       "<table border=\"1\" class=\"dataframe\">\n",
       "  <thead>\n",
       "    <tr style=\"text-align: right;\">\n",
       "      <th></th>\n",
       "      <th>MovieID</th>\n",
       "      <th>MovieName</th>\n",
       "      <th>Genres</th>\n",
       "      <th>ID</th>\n",
       "      <th>MovieID</th>\n",
       "      <th>Ratings</th>\n",
       "      <th>Timestamp</th>\n",
       "      <th>UserID</th>\n",
       "      <th>Gender</th>\n",
       "      <th>Age</th>\n",
       "      <th>Category</th>\n",
       "      <th>Zip-code</th>\n",
       "    </tr>\n",
       "  </thead>\n",
       "  <tbody>\n",
       "    <tr>\n",
       "      <th>0</th>\n",
       "      <td>2.0</td>\n",
       "      <td>Jumanji (1995)</td>\n",
       "      <td>Adventure|Children's|Fantasy</td>\n",
       "      <td>1</td>\n",
       "      <td>661</td>\n",
       "      <td>3</td>\n",
       "      <td>978302109</td>\n",
       "      <td>2.0</td>\n",
       "      <td>M</td>\n",
       "      <td>56.0</td>\n",
       "      <td>16.0</td>\n",
       "      <td>70072</td>\n",
       "    </tr>\n",
       "    <tr>\n",
       "      <th>1</th>\n",
       "      <td>3.0</td>\n",
       "      <td>Grumpier Old Men (1995)</td>\n",
       "      <td>Comedy|Romance</td>\n",
       "      <td>1</td>\n",
       "      <td>914</td>\n",
       "      <td>3</td>\n",
       "      <td>978301968</td>\n",
       "      <td>3.0</td>\n",
       "      <td>M</td>\n",
       "      <td>25.0</td>\n",
       "      <td>15.0</td>\n",
       "      <td>55117</td>\n",
       "    </tr>\n",
       "    <tr>\n",
       "      <th>2</th>\n",
       "      <td>4.0</td>\n",
       "      <td>Waiting to Exhale (1995)</td>\n",
       "      <td>Comedy|Drama</td>\n",
       "      <td>1</td>\n",
       "      <td>3408</td>\n",
       "      <td>4</td>\n",
       "      <td>978300275</td>\n",
       "      <td>4.0</td>\n",
       "      <td>M</td>\n",
       "      <td>45.0</td>\n",
       "      <td>7.0</td>\n",
       "      <td>02460</td>\n",
       "    </tr>\n",
       "    <tr>\n",
       "      <th>3</th>\n",
       "      <td>5.0</td>\n",
       "      <td>Father of the Bride Part II (1995)</td>\n",
       "      <td>Comedy</td>\n",
       "      <td>1</td>\n",
       "      <td>2355</td>\n",
       "      <td>5</td>\n",
       "      <td>978824291</td>\n",
       "      <td>5.0</td>\n",
       "      <td>M</td>\n",
       "      <td>25.0</td>\n",
       "      <td>20.0</td>\n",
       "      <td>55455</td>\n",
       "    </tr>\n",
       "    <tr>\n",
       "      <th>4</th>\n",
       "      <td>6.0</td>\n",
       "      <td>Heat (1995)</td>\n",
       "      <td>Action|Crime|Thriller</td>\n",
       "      <td>1</td>\n",
       "      <td>1197</td>\n",
       "      <td>3</td>\n",
       "      <td>978302268</td>\n",
       "      <td>6.0</td>\n",
       "      <td>F</td>\n",
       "      <td>50.0</td>\n",
       "      <td>9.0</td>\n",
       "      <td>55117</td>\n",
       "    </tr>\n",
       "  </tbody>\n",
       "</table>\n",
       "</div>"
      ],
      "text/plain": [
       "   MovieID                           MovieName                        Genres  \\\n",
       "0      2.0                      Jumanji (1995)  Adventure|Children's|Fantasy   \n",
       "1      3.0             Grumpier Old Men (1995)                Comedy|Romance   \n",
       "2      4.0            Waiting to Exhale (1995)                  Comedy|Drama   \n",
       "3      5.0  Father of the Bride Part II (1995)                        Comedy   \n",
       "4      6.0                         Heat (1995)         Action|Crime|Thriller   \n",
       "\n",
       "   ID  MovieID  Ratings  Timestamp  UserID Gender   Age  Category Zip-code  \n",
       "0   1      661        3  978302109     2.0      M  56.0      16.0    70072  \n",
       "1   1      914        3  978301968     3.0      M  25.0      15.0    55117  \n",
       "2   1     3408        4  978300275     4.0      M  45.0       7.0    02460  \n",
       "3   1     2355        5  978824291     5.0      M  25.0      20.0    55455  \n",
       "4   1     1197        3  978302268     6.0      F  50.0       9.0    55117  "
      ]
     },
     "execution_count": 20,
     "metadata": {},
     "output_type": "execute_result"
    }
   ],
   "source": [
    "dataset.head()"
   ]
  },
  {
   "cell_type": "code",
   "execution_count": 21,
   "id": "a9cf4c0c",
   "metadata": {},
   "outputs": [],
   "source": [
    "columns_to_drop = [\"MovieName\", \"Genres\", \"MovieID\", \"Timestamp\", \"Zip-code\", \"Ratings\"]\n",
    "\n",
    "missing_columns = [col for col in columns_to_drop if col not in dataset.columns]\n",
    "\n",
    "if missing_columns:\n",
    "    raise KeyError(f\"Columns not found: {missing_columns}\")\n",
    "\n",
    "# Features\n",
    "x = dataset.drop(columns=columns_to_drop)\n",
    "y = dataset[\"Ratings\"]\n",
    "\n",
    "# Adjust test_size and random_state \n",
    "x_train, x_test, y_train, y_test = train_test_split(x, y, test_size=0.20, random_state=0)\n"
   ]
  },
  {
   "cell_type": "code",
   "execution_count": 22,
   "id": "275a73c5",
   "metadata": {},
   "outputs": [
    {
     "name": "stdout",
     "output_type": "stream",
     "text": [
      "    ID    UserID       Age  Category  Gender_F  Gender_M\n",
      "0  0.0  0.000000  1.000000      0.80       0.0       1.0\n",
      "1  0.0  0.000258  0.436364      0.75       0.0       1.0\n",
      "2  0.0  0.000515  0.800000      0.35       0.0       1.0\n",
      "3  0.0  0.000773  0.436364      1.00       0.0       1.0\n",
      "4  0.0  0.001031  0.890909      0.45       1.0       0.0\n"
     ]
    }
   ],
   "source": [
    "categorical_columns = ['Gender']\n",
    "\n",
    "# Create a column transformer\n",
    "preprocessor = ColumnTransformer(\n",
    "    transformers=[\n",
    "        ('num', MinMaxScaler(), [col for col in x.columns if col not in categorical_columns]),\n",
    "        ('cat', OneHotEncoder(), categorical_columns)\n",
    "    ])\n",
    "\n",
    "# Create a pipeline\n",
    "pipeline = Pipeline(steps=[('preprocessor', preprocessor)])\n",
    "\n",
    "# Fit and transform the data\n",
    "scaled_data = pipeline.fit_transform(x)\n",
    "\n",
    "# Create a df with the scaled data\n",
    "scaled_df = pd.DataFrame(scaled_data, columns=[col for col in x.columns if col not in categorical_columns] +\n",
    "                                               list(pipeline.named_steps['preprocessor'].named_transformers_['cat'].get_feature_names_out(categorical_columns)))\n",
    "\n",
    "print(scaled_df.head())"
   ]
  },
  {
   "cell_type": "markdown",
   "id": "26cd96bb",
   "metadata": {},
   "source": [
    "## Logistic Regression"
   ]
  },
  {
   "cell_type": "code",
   "execution_count": 23,
   "id": "62eaaa3e",
   "metadata": {},
   "outputs": [
    {
     "name": "stdout",
     "output_type": "stream",
     "text": [
      "Accuracy: 0.3564993564993565\n"
     ]
    }
   ],
   "source": [
    "categorical_columns = ['Gender']\n",
    "\n",
    "# Create a column transformer\n",
    "preprocessor = ColumnTransformer(\n",
    "    transformers=[\n",
    "        ('num', StandardScaler(), [col for col in x_train.columns if col not in categorical_columns]),\n",
    "        ('cat', OneHotEncoder(), categorical_columns)\n",
    "    ])\n",
    "\n",
    "# Create a pipeline\n",
    "pipeline = Pipeline(steps=[('preprocessor', preprocessor), ('classifier', LogisticRegression())])\n",
    "\n",
    "# Train the model on the training data\n",
    "pipeline.fit(x_train, y_train)  \n",
    "\n",
    "# Predictions on the testing data\n",
    "y_pred = pipeline.predict(x_test) \n",
    "\n",
    "# Evaluate the model\n",
    "accuracy = accuracy_score(y_test, y_pred)  \n",
    "\n",
    "print(f\"Accuracy: {accuracy}\")"
   ]
  },
  {
   "cell_type": "code",
   "execution_count": 24,
   "id": "6f06e4b1",
   "metadata": {},
   "outputs": [],
   "source": [
    "x_test_transformed = pipeline.named_steps['preprocessor'].transform(x_test)\n",
    "\n",
    "# predictions on the transformed test data\n",
    "predictions = pipeline.named_steps['classifier'].predict(x_test_transformed)\n"
   ]
  },
  {
   "cell_type": "code",
   "execution_count": 25,
   "id": "fd86b056",
   "metadata": {},
   "outputs": [
    {
     "data": {
      "text/plain": [
       "'              precision    recall  f1-score   support\\n\\n           1       0.00      0.00      0.00        40\\n           2       0.00      0.00      0.00        75\\n           3       0.35      0.29      0.32       210\\n           4       0.36      0.82      0.50       263\\n           5       0.14      0.01      0.01       189\\n\\n    accuracy                           0.36       777\\n   macro avg       0.17      0.22      0.17       777\\nweighted avg       0.25      0.36      0.26       777\\n'"
      ]
     },
     "execution_count": 25,
     "metadata": {},
     "output_type": "execute_result"
    }
   ],
   "source": [
    "classification_report(y_test,predictions)"
   ]
  },
  {
   "cell_type": "code",
   "execution_count": 26,
   "id": "7e0fa4c2",
   "metadata": {},
   "outputs": [
    {
     "data": {
      "text/plain": [
       "0.3564993564993565"
      ]
     },
     "execution_count": 26,
     "metadata": {},
     "output_type": "execute_result"
    }
   ],
   "source": [
    "accuracy_score(y_test,predictions)"
   ]
  },
  {
   "cell_type": "markdown",
   "id": "34f4644a",
   "metadata": {},
   "source": [
    "## Kneighbors Classifier"
   ]
  },
  {
   "cell_type": "code",
   "execution_count": 27,
   "id": "48ff1248",
   "metadata": {},
   "outputs": [
    {
     "name": "stdout",
     "output_type": "stream",
     "text": [
      "Accuracy: 0.2985842985842986\n"
     ]
    }
   ],
   "source": [
    "categorical_columns = ['Gender']\n",
    "\n",
    "# Create a column transformer\n",
    "preprocessor = ColumnTransformer(\n",
    "    transformers=[\n",
    "        ('num', StandardScaler(), [col for col in x_train.columns if col not in categorical_columns]),\n",
    "        ('cat', OneHotEncoder(), categorical_columns)\n",
    "    ])\n",
    "\n",
    "# Create a pipeline\n",
    "pipeline = Pipeline(steps=[('preprocessor', preprocessor), ('classifier', KNeighborsClassifier(n_neighbors=5))])\n",
    "\n",
    "# Train the model on the training data\n",
    "pipeline.fit(x_train, y_train)\n",
    "\n",
    "# predictions on the testing data\n",
    "y_pred_labels = pipeline.predict(x_test)\n",
    "\n",
    "# Evaluate the model\n",
    "accuracy = accuracy_score(y_test, y_pred_labels)\n",
    "\n",
    "print(f\"Accuracy: {accuracy}\")"
   ]
  },
  {
   "cell_type": "code",
   "execution_count": 28,
   "id": "8cbef612",
   "metadata": {},
   "outputs": [
    {
     "data": {
      "text/plain": [
       "'              precision    recall  f1-score   support\\n\\n           1       0.00      0.00      0.00        40\\n           2       0.00      0.00      0.00        75\\n           3       0.35      0.29      0.32       210\\n           4       0.36      0.82      0.50       263\\n           5       0.14      0.01      0.01       189\\n\\n    accuracy                           0.36       777\\n   macro avg       0.17      0.22      0.17       777\\nweighted avg       0.25      0.36      0.26       777\\n'"
      ]
     },
     "execution_count": 28,
     "metadata": {},
     "output_type": "execute_result"
    }
   ],
   "source": [
    "classification_report(y_test,predictions)"
   ]
  },
  {
   "cell_type": "code",
   "execution_count": 29,
   "id": "4b222e11",
   "metadata": {},
   "outputs": [
    {
     "data": {
      "text/plain": [
       "array([[  0,   0,  10,  30,   0],\n",
       "       [  0,   0,  28,  46,   1],\n",
       "       [  0,   0,  61, 148,   1],\n",
       "       [  0,   0,  44, 215,   4],\n",
       "       [  0,   0,  31, 157,   1]], dtype=int64)"
      ]
     },
     "execution_count": 29,
     "metadata": {},
     "output_type": "execute_result"
    }
   ],
   "source": [
    "confusion_matrix(y_test,predictions)"
   ]
  },
  {
   "cell_type": "code",
   "execution_count": 30,
   "id": "63d68c35",
   "metadata": {},
   "outputs": [
    {
     "data": {
      "text/plain": [
       "0.3564993564993565"
      ]
     },
     "execution_count": 30,
     "metadata": {},
     "output_type": "execute_result"
    }
   ],
   "source": [
    "accuracy_score(y_test,predictions)"
   ]
  },
  {
   "cell_type": "markdown",
   "id": "69c55d7f",
   "metadata": {},
   "source": [
    "## Naive Bayes"
   ]
  },
  {
   "cell_type": "code",
   "execution_count": 31,
   "id": "6f88ec6b",
   "metadata": {},
   "outputs": [
    {
     "name": "stdout",
     "output_type": "stream",
     "text": [
      "Accuracy: 0.3410553410553411\n",
      "Confusion Matrix:\n",
      "[[  0   0  15  24   1]\n",
      " [  0   0  43  25   7]\n",
      " [  0   0  80 117  13]\n",
      " [  0   0  65 174  24]\n",
      " [  0   0  42 136  11]]\n"
     ]
    }
   ],
   "source": [
    "categorical_columns = ['Gender']\n",
    "\n",
    "# Create a column transformer\n",
    "preprocessor = ColumnTransformer(\n",
    "    transformers=[\n",
    "        ('num', StandardScaler(), [col for col in x_train.columns if col not in categorical_columns]),\n",
    "        ('cat', OneHotEncoder(), categorical_columns)\n",
    "    ])\n",
    "\n",
    "# Create a pipeline\n",
    "pipeline = Pipeline(steps=[('preprocessor', preprocessor), ('classifier', GaussianNB())])\n",
    "\n",
    "# Train the model on the training data\n",
    "pipeline.fit(x_train, y_train)\n",
    "\n",
    "# predictions on the testing data\n",
    "y_pred_labels = pipeline.predict(x_test)\n",
    "\n",
    "# Evaluate the model\n",
    "accuracy = accuracy_score(y_test, y_pred_labels)\n",
    "\n",
    "print(f\"Accuracy: {accuracy}\")\n",
    "\n",
    "conf_matrix = confusion_matrix(y_test, y_pred_labels)\n",
    "print(\"Confusion Matrix:\")\n",
    "print(conf_matrix)\n"
   ]
  },
  {
   "cell_type": "code",
   "execution_count": 32,
   "id": "29609236",
   "metadata": {},
   "outputs": [
    {
     "data": {
      "text/plain": [
       "'              precision    recall  f1-score   support\\n\\n           1       0.00      0.00      0.00        40\\n           2       0.00      0.00      0.00        75\\n           3       0.35      0.29      0.32       210\\n           4       0.36      0.82      0.50       263\\n           5       0.14      0.01      0.01       189\\n\\n    accuracy                           0.36       777\\n   macro avg       0.17      0.22      0.17       777\\nweighted avg       0.25      0.36      0.26       777\\n'"
      ]
     },
     "execution_count": 32,
     "metadata": {},
     "output_type": "execute_result"
    }
   ],
   "source": [
    "classification_report(y_test,predictions)"
   ]
  },
  {
   "cell_type": "markdown",
   "id": "13d29cbe",
   "metadata": {},
   "source": [
    "## SVC"
   ]
  },
  {
   "cell_type": "code",
   "execution_count": 33,
   "id": "3fce53ac",
   "metadata": {},
   "outputs": [
    {
     "name": "stdout",
     "output_type": "stream",
     "text": [
      "Accuracy: 0.3564993564993565\n",
      "Classification Report:\n",
      "              precision    recall  f1-score   support\n",
      "\n",
      "           1       0.00      0.00      0.00        40\n",
      "           2       0.00      0.00      0.00        75\n",
      "           3       0.34      0.24      0.28       210\n",
      "           4       0.36      0.85      0.51       263\n",
      "           5       0.43      0.02      0.03       189\n",
      "\n",
      "    accuracy                           0.36       777\n",
      "   macro avg       0.22      0.22      0.16       777\n",
      "weighted avg       0.32      0.36      0.25       777\n",
      "\n"
     ]
    }
   ],
   "source": [
    "categorical_columns = ['Gender']\n",
    "\n",
    "# Create a column transformer\n",
    "preprocessor = ColumnTransformer(\n",
    "    transformers=[\n",
    "        ('num', StandardScaler(), [col for col in x_train.columns if col not in categorical_columns]),\n",
    "        ('cat', OneHotEncoder(), categorical_columns)\n",
    "    ])\n",
    "\n",
    "# Create a pipeline\n",
    "pipeline = Pipeline(steps=[('preprocessor', preprocessor), ('classifier', SVC())])\n",
    "\n",
    "# Train the model on the training data\n",
    "pipeline.fit(x_train, y_train)\n",
    "\n",
    "# predictions on the testing data\n",
    "y_pred_labels = pipeline.predict(x_test)\n",
    "\n",
    "# Evaluate the model\n",
    "accuracy = accuracy_score(y_test, y_pred_labels)\n",
    "\n",
    "print(f\"Accuracy: {accuracy}\")\n",
    "\n",
    "# Print classification report\n",
    "class_report = classification_report(y_test, y_pred_labels)\n",
    "print(\"Classification Report:\")\n",
    "print(class_report)\n"
   ]
  },
  {
   "cell_type": "code",
   "execution_count": 34,
   "id": "d1684d83",
   "metadata": {},
   "outputs": [
    {
     "data": {
      "text/plain": [
       "array([[  0,   0,  10,  30,   0],\n",
       "       [  0,   0,  28,  46,   1],\n",
       "       [  0,   0,  61, 148,   1],\n",
       "       [  0,   0,  44, 215,   4],\n",
       "       [  0,   0,  31, 157,   1]], dtype=int64)"
      ]
     },
     "execution_count": 34,
     "metadata": {},
     "output_type": "execute_result"
    }
   ],
   "source": [
    "confusion_matrix(y_test,predictions)"
   ]
  },
  {
   "cell_type": "code",
   "execution_count": 35,
   "id": "57391d94",
   "metadata": {},
   "outputs": [
    {
     "data": {
      "text/plain": [
       "'              precision    recall  f1-score   support\\n\\n           1       0.00      0.00      0.00        40\\n           2       0.00      0.00      0.00        75\\n           3       0.35      0.29      0.32       210\\n           4       0.36      0.82      0.50       263\\n           5       0.14      0.01      0.01       189\\n\\n    accuracy                           0.36       777\\n   macro avg       0.17      0.22      0.17       777\\nweighted avg       0.25      0.36      0.26       777\\n'"
      ]
     },
     "execution_count": 35,
     "metadata": {},
     "output_type": "execute_result"
    }
   ],
   "source": [
    "classification_report(y_test,predictions)"
   ]
  },
  {
   "cell_type": "code",
   "execution_count": 36,
   "id": "cb97acfd",
   "metadata": {},
   "outputs": [
    {
     "data": {
      "text/plain": [
       "0.3564993564993565"
      ]
     },
     "execution_count": 36,
     "metadata": {},
     "output_type": "execute_result"
    }
   ],
   "source": [
    "accuracy_score(y_test,predictions)"
   ]
  },
  {
   "cell_type": "markdown",
   "id": "09e1b3d9",
   "metadata": {},
   "source": [
    "## Decision Tree Classifier"
   ]
  },
  {
   "cell_type": "code",
   "execution_count": 37,
   "id": "24e6f7d9",
   "metadata": {},
   "outputs": [
    {
     "name": "stdout",
     "output_type": "stream",
     "text": [
      "Accuracy: 0.2702702702702703\n",
      "Predictions:\n",
      "[3 3 4 3 3 4 3 5 4 4 3 2 2 5 4 5 3 4 4 2 4 4 5 4 2 5 4 1 3 5 4 4 2 4 5 4 4\n",
      " 3 1 4 4 3 5 3 5 3 5 4 2 4 5 4 1 4 3 3 5 2 3 4 2 4 4 4 5 4 2 1 4 2 2 5 5 3\n",
      " 5 5 5 2 2 2 2 3 4 5 3 4 1 4 2 4 4 3 4 4 5 3 5 5 4 5 5 5 3 5 5 5 4 5 5 5 4\n",
      " 1 3 3 3 1 3 4 5 4 3 3 5 3 1 3 5 4 4 2 4 5 3 4 4 4 3 4 4 4 2 4 4 2 2 1 4 4\n",
      " 3 5 3 2 3 4 5 3 5 1 3 5 4 4 4 3 5 5 3 1 5 4 5 4 4 3 1 5 4 2 4 3 2 3 5 5 4\n",
      " 3 2 1 5 4 3 3 1 4 4 3 4 5 4 3 5 3 2 5 3 2 4 4 4 2 4 4 5 5 4 2 4 1 4 4 3 3\n",
      " 2 1 4 2 1 3 4 5 3 4 2 4 5 2 2 3 4 3 3 5 5 1 4 4 2 3 4 5 4 4 1 4 2 3 3 1 3\n",
      " 2 4 4 5 5 3 3 4 4 4 5 5 3 4 3 3 4 4 4 4 5 4 3 5 4 5 4 3 5 5 4 4 3 4 5 5 3\n",
      " 4 3 3 5 3 4 4 1 4 2 3 4 4 4 4 4 4 5 2 3 3 4 5 1 5 4 4 4 3 2 5 5 3 3 3 4 3\n",
      " 2 5 3 5 5 2 3 5 4 5 5 5 4 3 5 2 4 4 3 5 5 3 4 1 5 4 4 3 4 4 4 5 4 2 3 5 4\n",
      " 5 2 2 5 1 4 3 2 2 2 5 4 3 3 5 5 5 3 3 1 4 3 3 5 4 4 3 5 2 3 4 5 3 1 4 5 4\n",
      " 5 4 4 1 3 4 2 5 3 2 4 4 3 3 3 5 4 3 5 3 5 4 4 1 4 3 3 3 4 5 4 3 1 4 3 3 3\n",
      " 5 4 3 1 4 5 5 1 4 2 3 3 4 2 2 4 1 3 3 5 4 4 3 3 5 3 2 4 3 4 3 3 3 2 4 2 4\n",
      " 3 4 2 2 3 3 4 5 4 2 4 4 5 4 4 3 4 5 5 4 3 4 3 4 4 3 5 4 4 3 4 5 3 3 3 4 4\n",
      " 3 5 3 4 4 2 4 2 3 3 4 4 4 3 2 5 2 2 4 1 3 4 5 2 5 4 3 4 3 3 3 4 3 3 3 5 4\n",
      " 2 2 4 4 1 4 3 3 5 2 4 5 5 4 4 4 3 2 3 3 1 3 3 3 2 5 5 3 4 5 4 4 3 3 3 3 1\n",
      " 4 2 3 2 4 4 5 5 4 3 4 4 5 4 1 3 4 5 3 5 4 4 4 5 3 4 2 3 3 4 3 4 4 4 2 3 3\n",
      " 5 4 3 4 3 1 4 3 5 3 5 4 3 3 4 4 2 3 5 3 2 4 4 4 5 2 3 4 5 5 3 3 4 4 1 1 4\n",
      " 5 4 3 4 3 3 3 3 2 3 4 5 3 4 3 4 3 3 2 3 4 4 5 5 4 4 2 4 1 3 4 3 3 5 4 5 3\n",
      " 3 4 5 4 4 2 4 5 4 4 4 4 4 3 4 4 3 4 5 1 4 3 4 1 3 5 4 2 1 5 3 5 4 5 5 4 1\n",
      " 4 3 3 5 4 4 3 4 3 3 2 1 5 3 2 5 3 3 4 1 4 2 4 2 5 5 3 5 4 5 4 2 2 4 5 4 3]\n",
      "Classification Report:\n",
      "              precision    recall  f1-score   support\n",
      "\n",
      "           1       0.11      0.12      0.11        40\n",
      "           2       0.10      0.12      0.11        75\n",
      "           3       0.24      0.24      0.24       210\n",
      "           4       0.36      0.37      0.36       263\n",
      "           5       0.30      0.25      0.28       189\n",
      "\n",
      "    accuracy                           0.27       777\n",
      "   macro avg       0.22      0.22      0.22       777\n",
      "weighted avg       0.28      0.27      0.27       777\n",
      "\n"
     ]
    }
   ],
   "source": [
    "categorical_columns = ['Gender']\n",
    "\n",
    "# Create a column transformer\n",
    "preprocessor = ColumnTransformer(\n",
    "    transformers=[\n",
    "        ('num', StandardScaler(), [col for col in x_train.columns if col not in categorical_columns]),\n",
    "        ('cat', OneHotEncoder(), categorical_columns)\n",
    "    ])\n",
    "\n",
    "# Create a pipeline\n",
    "pipeline = Pipeline(steps=[('preprocessor', preprocessor), ('classifier', DecisionTreeClassifier())])\n",
    "\n",
    "# Train the model on the training data\n",
    "pipeline.fit(x_train, y_train)\n",
    "\n",
    "# predictions on the testing data\n",
    "y_pred_labels = pipeline.predict(x_test)\n",
    "\n",
    "# Evaluate the model\n",
    "accuracy = accuracy_score(y_test, y_pred_labels)\n",
    "class_report = classification_report(y_test, y_pred_labels)\n",
    "\n",
    "# Print the evaluation metrics\n",
    "print(f\"Accuracy: {accuracy}\")\n",
    "\n",
    "# Print predictions\n",
    "print(\"Predictions:\")\n",
    "print(y_pred_labels)\n",
    "\n",
    "\n",
    "# Print classification report\n",
    "class_report = classification_report(y_test, y_pred_labels)\n",
    "print(\"Classification Report:\")\n",
    "print(class_report)\n"
   ]
  },
  {
   "cell_type": "code",
   "execution_count": 38,
   "id": "7798d756",
   "metadata": {},
   "outputs": [
    {
     "data": {
      "text/plain": [
       "array([[  0,   0,  10,  30,   0],\n",
       "       [  0,   0,  28,  46,   1],\n",
       "       [  0,   0,  61, 148,   1],\n",
       "       [  0,   0,  44, 215,   4],\n",
       "       [  0,   0,  31, 157,   1]], dtype=int64)"
      ]
     },
     "execution_count": 38,
     "metadata": {},
     "output_type": "execute_result"
    }
   ],
   "source": [
    "confusion_matrix(y_test,predictions)"
   ]
  },
  {
   "cell_type": "code",
   "execution_count": 39,
   "id": "0f8aa109",
   "metadata": {},
   "outputs": [
    {
     "data": {
      "text/plain": [
       "'              precision    recall  f1-score   support\\n\\n           1       0.00      0.00      0.00        40\\n           2       0.00      0.00      0.00        75\\n           3       0.35      0.29      0.32       210\\n           4       0.36      0.82      0.50       263\\n           5       0.14      0.01      0.01       189\\n\\n    accuracy                           0.36       777\\n   macro avg       0.17      0.22      0.17       777\\nweighted avg       0.25      0.36      0.26       777\\n'"
      ]
     },
     "execution_count": 39,
     "metadata": {},
     "output_type": "execute_result"
    }
   ],
   "source": [
    "classification_report(y_test,predictions)"
   ]
  },
  {
   "cell_type": "code",
   "execution_count": 40,
   "id": "09eaa90c",
   "metadata": {},
   "outputs": [
    {
     "data": {
      "text/plain": [
       "0.3564993564993565"
      ]
     },
     "execution_count": 40,
     "metadata": {},
     "output_type": "execute_result"
    }
   ],
   "source": [
    "accuracy_score(y_test,predictions)"
   ]
  },
  {
   "cell_type": "markdown",
   "id": "30c43e95",
   "metadata": {},
   "source": [
    "## Random Forest Classifier"
   ]
  },
  {
   "cell_type": "code",
   "execution_count": 41,
   "id": "830a2c08",
   "metadata": {},
   "outputs": [
    {
     "name": "stdout",
     "output_type": "stream",
     "text": [
      "Accuracy: 0.2882882882882883\n",
      "Classification Report:\n",
      "              precision    recall  f1-score   support\n",
      "\n",
      "           1       0.11      0.05      0.07        40\n",
      "           2       0.13      0.12      0.13        75\n",
      "           3       0.27      0.30      0.28       210\n",
      "           4       0.32      0.37      0.34       263\n",
      "           5       0.33      0.29      0.31       189\n",
      "\n",
      "    accuracy                           0.29       777\n",
      "   macro avg       0.23      0.22      0.23       777\n",
      "weighted avg       0.28      0.29      0.28       777\n",
      "\n",
      "Confusion Matrix:\n",
      "[[ 2  5 20  9  4]\n",
      " [ 2  9 24 27 13]\n",
      " [ 4 26 62 89 29]\n",
      " [ 6 17 77 96 67]\n",
      " [ 4 10 43 77 55]]\n"
     ]
    }
   ],
   "source": [
    "categorical_columns = ['Gender']\n",
    "\n",
    "# Create a column transformer\n",
    "preprocessor = ColumnTransformer(\n",
    "    transformers=[\n",
    "        ('num', StandardScaler(), [col for col in x_train.columns if col not in categorical_columns]),\n",
    "        ('cat', OneHotEncoder(), categorical_columns)\n",
    "    ])\n",
    "\n",
    "# Create a pipeline\n",
    "pipeline = Pipeline(steps=[('preprocessor', preprocessor), ('classifier', RandomForestClassifier())])\n",
    "\n",
    "# Train the model on the training data\n",
    "pipeline.fit(x_train, y_train)\n",
    "\n",
    "# predictions on the testing data\n",
    "y_pred_labels = pipeline.predict(x_test)\n",
    "\n",
    "# Evaluate the model\n",
    "accuracy = accuracy_score(y_test, y_pred_labels)\n",
    "class_report = classification_report(y_test, y_pred_labels)\n",
    "conf_matrix = confusion_matrix(y_test, y_pred_labels)\n",
    "\n",
    "# Print the evaluation metrics\n",
    "print(f\"Accuracy: {accuracy}\")\n",
    "print(\"Classification Report:\")\n",
    "print(class_report)\n",
    "print(\"Confusion Matrix:\")\n",
    "print(conf_matrix)\n"
   ]
  },
  {
   "cell_type": "code",
   "execution_count": 42,
   "id": "09d225f9",
   "metadata": {},
   "outputs": [
    {
     "data": {
      "text/plain": [
       "'              precision    recall  f1-score   support\\n\\n           1       0.00      0.00      0.00        40\\n           2       0.00      0.00      0.00        75\\n           3       0.35      0.29      0.32       210\\n           4       0.36      0.82      0.50       263\\n           5       0.14      0.01      0.01       189\\n\\n    accuracy                           0.36       777\\n   macro avg       0.17      0.22      0.17       777\\nweighted avg       0.25      0.36      0.26       777\\n'"
      ]
     },
     "execution_count": 42,
     "metadata": {},
     "output_type": "execute_result"
    }
   ],
   "source": [
    "classification_report(y_test,predictions)"
   ]
  },
  {
   "cell_type": "code",
   "execution_count": null,
   "id": "a6721457",
   "metadata": {},
   "outputs": [],
   "source": []
  }
 ],
 "metadata": {
  "kernelspec": {
   "display_name": "Python 3 (ipykernel)",
   "language": "python",
   "name": "python3"
  },
  "language_info": {
   "codemirror_mode": {
    "name": "ipython",
    "version": 3
   },
   "file_extension": ".py",
   "mimetype": "text/x-python",
   "name": "python",
   "nbconvert_exporter": "python",
   "pygments_lexer": "ipython3",
   "version": "3.11.4"
  }
 },
 "nbformat": 4,
 "nbformat_minor": 5
}
